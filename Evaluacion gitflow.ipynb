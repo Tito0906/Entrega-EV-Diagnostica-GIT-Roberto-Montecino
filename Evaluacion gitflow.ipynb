{
 "cells": [
  {
   "cell_type": "code",
   "execution_count": null,
   "id": "7da41859",
   "metadata": {},
   "outputs": [],
   "source": [
    "import json\n",
    "import datetime\n",
    "import re\n",
    "\n",
    "\n",
    "tweets = []\n",
    "for line in open('farmers-protest-tweets-2021-03-5.json', 'r'):\n",
    "    tweets.append(json.loads(line))"
   ]
  },
  {
   "cell_type": "code",
   "execution_count": null,
   "id": "b59b6c29",
   "metadata": {},
   "outputs": [],
   "source": [
    "def getTop10Retweeted(tweets):\n",
    "    top10Retweeted = sorted(tweets, key=lambda tweet : tweet['retweetCount'], reverse=True)\n",
    "    return top10Retweeted[0:10]\n"
   ]
  },
  {
   "cell_type": "code",
   "execution_count": null,
   "id": "6afdd3ab",
   "metadata": {},
   "outputs": [],
   "source": [
    "def (tweets):\n",
    "    usersTweetsCount = {}\n",
    "    for tweet in tweets:\n",
    "        if tweet['user']['username'] in usersTweetsCount:\n",
    "            usersTweetsCount[tweet['user']['username']] += 1\n",
    "        else:\n",
    "            usersTweetsCount[tweet['user']['username']]=1\n",
    "\n",
    "    top10Users = sorted(usersTweetsCount.items(), key=lambda user:user[1], reverse=True)\n",
    "    return top10Users[0:10]"
   ]
  },
  {
   "cell_type": "code",
   "execution_count": null,
   "id": "e10278b5",
   "metadata": {},
   "outputs": [],
   "source": []
  },
  {
   "cell_type": "code",
   "execution_count": null,
   "id": "0a3c88ec",
   "metadata": {},
   "outputs": [],
   "source": []
  },
  {
   "cell_type": "code",
   "execution_count": null,
   "id": "76e548d0",
   "metadata": {},
   "outputs": [],
   "source": []
  },
  {
   "cell_type": "code",
   "execution_count": null,
   "id": "1f032d99",
   "metadata": {},
   "outputs": [],
   "source": []
  },
  {
   "cell_type": "code",
   "execution_count": null,
   "id": "535d6c51",
   "metadata": {},
   "outputs": [],
   "source": []
  }
 ],
 "metadata": {
  "kernelspec": {
   "display_name": "Python 3 (ipykernel)",
   "language": "python",
   "name": "python3"
  },
  "language_info": {
   "codemirror_mode": {
    "name": "ipython",
    "version": 3
   },
   "file_extension": ".py",
   "mimetype": "text/x-python",
   "name": "python",
   "nbconvert_exporter": "python",
   "pygments_lexer": "ipython3",
   "version": "3.10.4"
  }
 },
 "nbformat": 4,
 "nbformat_minor": 5
}
